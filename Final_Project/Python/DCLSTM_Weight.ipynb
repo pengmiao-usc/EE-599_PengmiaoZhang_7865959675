{
 "cells": [
  {
   "cell_type": "markdown",
   "metadata": {},
   "source": [
    "## DCLSTM_Train_and_Weight"
   ]
  },
  {
   "cell_type": "code",
   "execution_count": 1,
   "metadata": {},
   "outputs": [
    {
     "name": "stderr",
     "output_type": "stream",
     "text": [
      "Using TensorFlow backend.\n"
     ]
    }
   ],
   "source": [
    "import functions as f\n",
    "from tensorflow.python.keras import backend as k\n",
    "import csv\n",
    "import os\n",
    "import pandas as pd\n",
    "import numpy as np\n",
    "from tensorflow.keras.preprocessing.text import Tokenizer\n",
    "from sklearn.model_selection import train_test_split\n",
    "from sklearn.preprocessing import OneHotEncoder\n",
    "from numpy import argmax\n",
    "import pickle"
   ]
  },
  {
   "cell_type": "code",
   "execution_count": 2,
   "metadata": {},
   "outputs": [
    {
     "data": {
      "text/plain": [
       "'convert_to_dt'"
      ]
     },
     "execution_count": 2,
     "metadata": {},
     "output_type": "execute_result"
    }
   ],
   "source": [
    "'''convert_to_dt'''\n",
    "\n",
    "#source_path= \"D:/USC/Lab/ChamSim/data/654.out\"\n",
    "#f.convert_to_dt(source_path)\n"
   ]
  },
  {
   "cell_type": "code",
   "execution_count": 2,
   "metadata": {},
   "outputs": [
    {
     "name": "stdout",
     "output_type": "stream",
     "text": [
      "(399997, 3) (399997, 1)\n",
      "(399997, 48) (399997, 16)\n",
      "X shape: (271997, 48) (68000, 48) (60000, 48)\n",
      "y shape: (271997, 16) (68000, 16) (60000, 16)\n"
     ]
    }
   ],
   "source": [
    "\n",
    "'''read_dt'''\n",
    "#source_path= \"D:/USC/Lab/ChamSim/data/dt.csv\"\n",
    "'''\n",
    "source_path= \"/home/pengmiao/Project/MEMSYS/my_ChampSim_gen_trace/results_8M_dt/605.mcf_s-665B-dt-600k.csv\"\n",
    "dataset_dt = pd.read_csv(source_path, header=None, index_col=None)\n",
    "dataset_dt_ls=list(dataset_dt[0])[0:400000]\n",
    "\n",
    "dataset_dt_ls_x = [\"%s%d\" % (\"1x\" if x < 0 else \"0x\", abs(x)) for x in dataset_dt_ls]\n",
    "'''\n",
    "source_path= \"/home/pengmiao/Project/MEMSYS/my_ChampSim_gen_trace/dt_PARSEC_x.csv\"\n",
    "dataset_dt_ls = pd.read_csv(source_path, header=None, index_col=None)\n",
    "#print(dataset_dt_ls)\n",
    "dataset_dt_ls_x=list(dataset_dt_ls[0])[0:]\n",
    "#print(dataset_dt_ls_x[0:100])\n",
    "\n",
    "'''tokenize'''\n",
    "tokenizer = Tokenizer()\n",
    "tokenizer.fit_on_texts(dataset_dt_ls_x)\n",
    "encoded_final = tokenizer.texts_to_sequences([' '.join(dataset_dt_ls_x)])[0]\n",
    "final_vocab_size = len(tokenizer.word_index) + 1\n",
    "# saving\n",
    "with open('tokenizer.pickle', 'wb') as handle:\n",
    "    pickle.dump(tokenizer, handle, protocol=pickle.HIGHEST_PROTOCOL)\n",
    "\n",
    "# loading\n",
    "with open('tokenizer.pickle', 'rb') as handle:\n",
    "    tokenizer = pickle.load(handle)\n",
    "    \n",
    "'''input sequence window'''\n",
    "look_back = 3\n",
    "sequences = f.create_windowed_dataset(encoded_final, look_back)\n",
    "\n",
    "'''Training data preprocessing'''\n",
    "X, y = sequences[:, :-1], sequences[:, -1]\n",
    "y = y.reshape(len(y), 1)\n",
    "print(X.shape,y.shape)\n",
    "'''binay'''\n",
    "X_binary =f.convert_to_binary(data=X)\n",
    "y_binay=f.convert_to_binary(data=y)\n",
    "print(X_binary.shape,y_binay.shape)\n",
    "X=X_binary\n",
    "'''split'''\n",
    "'''test'''\n",
    "test_ratio=0.15\n",
    "X_train0, X_test = train_test_split(X, test_size=test_ratio, shuffle=False)\n",
    "y_train0, y_test = train_test_split(y_binay, test_size=test_ratio, shuffle=False)\n",
    "\n",
    "'''train, validation'''\n",
    "test_ratio=0.2\n",
    "X_train, X_val = train_test_split(X_train0, test_size=test_ratio, shuffle=False)\n",
    "y_train, y_val = train_test_split(y_train0, test_size=test_ratio, shuffle=False)\n",
    "\n",
    "print(\"X shape:\",X_train.shape,X_val.shape,X_test.shape)\n",
    "print(\"y shape:\",y_train.shape,y_val.shape,y_test.shape)"
   ]
  },
  {
   "cell_type": "code",
   "execution_count": 5,
   "metadata": {},
   "outputs": [],
   "source": [
    "np.save(\"X_test.npy\",X_test)"
   ]
  },
  {
   "cell_type": "code",
   "execution_count": 6,
   "metadata": {},
   "outputs": [
    {
     "data": {
      "text/plain": [
       "array([0, 0, 0, 0, 0, 0, 0, 0, 0, 1, 0, 0, 0, 1, 1, 0, 0, 0, 0, 0, 0, 0,\n",
       "       0, 0, 0, 1, 0, 0, 0, 1, 1, 1, 0, 0, 0, 0, 0, 0, 0, 0, 0, 1, 0, 0,\n",
       "       1, 0, 0, 0])"
      ]
     },
     "execution_count": 6,
     "metadata": {},
     "output_type": "execute_result"
    }
   ],
   "source": [
    "X_load=np.load(\"X_test.npy\")\n",
    "X_load[0]"
   ]
  },
  {
   "cell_type": "code",
   "execution_count": 7,
   "metadata": {},
   "outputs": [
    {
     "data": {
      "text/plain": [
       "(399997, 48)"
      ]
     },
     "execution_count": 7,
     "metadata": {},
     "output_type": "execute_result"
    }
   ],
   "source": [
    "X_binary.shape"
   ]
  },
  {
   "cell_type": "code",
   "execution_count": 8,
   "metadata": {},
   "outputs": [
    {
     "data": {
      "text/plain": [
       "array([0, 0, 0, 0, 0, 0, 0, 0, 0, 0, 0, 0, 0, 0, 1, 1])"
      ]
     },
     "execution_count": 8,
     "metadata": {},
     "output_type": "execute_result"
    }
   ],
   "source": [
    "y_binay[0]"
   ]
  },
  {
   "cell_type": "markdown",
   "metadata": {},
   "source": [
    "# Time test"
   ]
  },
  {
   "cell_type": "code",
   "execution_count": 141,
   "metadata": {},
   "outputs": [
    {
     "name": "stdout",
     "output_type": "stream",
     "text": [
      "Model: \"sequential_1\"\n",
      "_________________________________________________________________\n",
      "Layer (type)                 Output Shape              Param #   \n",
      "=================================================================\n",
      "embedding_1 (Embedding)      (None, 48, 8)             16        \n",
      "_________________________________________________________________\n",
      "lstm_1 (LSTM)                (None, 128)               70144     \n",
      "_________________________________________________________________\n",
      "dropout_1 (Dropout)          (None, 128)               0         \n",
      "_________________________________________________________________\n",
      "dense_1 (Dense)              (None, 16)                2064      \n",
      "=================================================================\n",
      "Total params: 72,224\n",
      "Trainable params: 72,224\n",
      "Non-trainable params: 0\n",
      "_________________________________________________________________\n"
     ]
    },
    {
     "name": "stderr",
     "output_type": "stream",
     "text": [
      "/home/pengmiao/.local/lib/python3.7/site-packages/tensorflow_core/python/framework/indexed_slices.py:433: UserWarning: Converting sparse IndexedSlices to a dense Tensor of unknown shape. This may consume a large amount of memory.\n",
      "  \"Converting sparse IndexedSlices to a dense Tensor of unknown shape. \"\n"
     ]
    },
    {
     "name": "stdout",
     "output_type": "stream",
     "text": [
      "Train on 271997 samples, validate on 68000 samples\n",
      "Epoch 1/10\n",
      "271997/271997 [==============================] - 69s 255us/step - loss: 0.3765 - accuracy: 0.8204 - val_loss: 0.3272 - val_accuracy: 0.8441\n",
      "Epoch 2/10\n",
      "271997/271997 [==============================] - 68s 251us/step - loss: 0.2887 - accuracy: 0.8627 - val_loss: 0.2149 - val_accuracy: 0.9055\n",
      "Epoch 3/10\n",
      "271997/271997 [==============================] - 68s 249us/step - loss: 0.2158 - accuracy: 0.9000 - val_loss: 0.1663 - val_accuracy: 0.9211\n",
      "Epoch 4/10\n",
      "271997/271997 [==============================] - 68s 251us/step - loss: 0.1684 - accuracy: 0.9189 - val_loss: 0.1538 - val_accuracy: 0.9239\n",
      "Epoch 5/10\n",
      "271997/271997 [==============================] - 68s 250us/step - loss: 0.1513 - accuracy: 0.9246 - val_loss: 0.1472 - val_accuracy: 0.9249\n",
      "Epoch 6/10\n",
      "271997/271997 [==============================] - 68s 251us/step - loss: 0.1462 - accuracy: 0.9262 - val_loss: 0.1496 - val_accuracy: 0.9242\n",
      "Epoch 7/10\n",
      "271997/271997 [==============================] - 69s 252us/step - loss: 0.1412 - accuracy: 0.9285 - val_loss: 0.1499 - val_accuracy: 0.9249\n",
      "Epoch 8/10\n",
      "271997/271997 [==============================] - 68s 251us/step - loss: 0.1373 - accuracy: 0.9302 - val_loss: 0.1523 - val_accuracy: 0.9263\n",
      "Epoch 9/10\n",
      "271997/271997 [==============================] - 68s 251us/step - loss: 0.1351 - accuracy: 0.9313 - val_loss: 0.1639 - val_accuracy: 0.9274\n",
      "Epoch 10/10\n",
      "271997/271997 [==============================] - 68s 250us/step - loss: 0.1329 - accuracy: 0.9322 - val_loss: 0.1673 - val_accuracy: 0.9271\n",
      "accuracy: 0.8148\n"
     ]
    }
   ],
   "source": [
    "from my_model import my_model\n",
    "'''train model'''\n",
    "model_file_name='my_model_dc_parsec_128.h5'\n",
    "final_vocab_size=2\n",
    "embedding_dim=8\n",
    "i_dim=look_back*16\n",
    "o_dim=y_train.shape[1]\n",
    "batch_size=256\n",
    "num_epochs=10\n",
    "lstm_size=128\n",
    "model_ = my_model(final_vocab_size, batch_size,embedding_dim, i_dim, o_dim,lstm_size)\n",
    "history=model_.train(X_train, y_train,X_val, y_val, num_epochs, batch_size)\n",
    "model_.model.save(model_file_name)\n",
    "y_pred = model_.predict(X_test)\n",
    "y_pred[y_pred >= 0.5] = 1\n",
    "y_pred[y_pred < 0.5] = 0\n",
    "aaaaa = f.convert_binary_to_dec(y_test)\n",
    "bbbbb = f.convert_binary_to_dec(y_pred)\n",
    "\n",
    "from sklearn.metrics import accuracy_score\n",
    "accuracy = accuracy_score(np.array(aaaaa), np.array(bbbbb))\n",
    "print(\"accuracy:\",accuracy)\n",
    "\n",
    "#bbbbb = np.packbits(np.array(y_pred, dtype=np.bool).reshape(-1, 2, 8)[:, ::-1]).view(np.uint16)\n",
    "original_testing_diffs,original_predictions_diffs=f.token_back(aaaaa,bbbbb,tokenizer)"
   ]
  },
  {
   "cell_type": "code",
   "execution_count": 142,
   "metadata": {},
   "outputs": [
    {
     "name": "stdout",
     "output_type": "stream",
     "text": [
      "Model: \"sequential_2\"\n",
      "_________________________________________________________________\n",
      "Layer (type)                 Output Shape              Param #   \n",
      "=================================================================\n",
      "embedding_2 (Embedding)      (None, 48, 8)             16        \n",
      "_________________________________________________________________\n",
      "lstm_2 (LSTM)                (None, 64)                18688     \n",
      "_________________________________________________________________\n",
      "dropout_2 (Dropout)          (None, 64)                0         \n",
      "_________________________________________________________________\n",
      "dense_2 (Dense)              (None, 16)                1040      \n",
      "=================================================================\n",
      "Total params: 19,744\n",
      "Trainable params: 19,744\n",
      "Non-trainable params: 0\n",
      "_________________________________________________________________\n"
     ]
    },
    {
     "name": "stderr",
     "output_type": "stream",
     "text": [
      "/home/pengmiao/.local/lib/python3.7/site-packages/tensorflow_core/python/framework/indexed_slices.py:433: UserWarning: Converting sparse IndexedSlices to a dense Tensor of unknown shape. This may consume a large amount of memory.\n",
      "  \"Converting sparse IndexedSlices to a dense Tensor of unknown shape. \"\n"
     ]
    },
    {
     "name": "stdout",
     "output_type": "stream",
     "text": [
      "Train on 271997 samples, validate on 68000 samples\n",
      "Epoch 1/10\n",
      "271997/271997 [==============================] - 68s 250us/step - loss: 0.3844 - accuracy: 0.8165 - val_loss: 0.3294 - val_accuracy: 0.8428\n",
      "Epoch 2/10\n",
      "271997/271997 [==============================] - 68s 250us/step - loss: 0.3111 - accuracy: 0.8477 - val_loss: 0.2737 - val_accuracy: 0.8696\n",
      "Epoch 3/10\n",
      "271997/271997 [==============================] - 69s 253us/step - loss: 0.2590 - accuracy: 0.8761 - val_loss: 0.2228 - val_accuracy: 0.9015\n",
      "Epoch 4/10\n",
      "271997/271997 [==============================] - 69s 254us/step - loss: 0.2220 - accuracy: 0.8957 - val_loss: 0.1930 - val_accuracy: 0.9129\n",
      "Epoch 5/10\n",
      "271997/271997 [==============================] - 67s 247us/step - loss: 0.2013 - accuracy: 0.9053 - val_loss: 0.1744 - val_accuracy: 0.9186\n",
      "Epoch 6/10\n",
      "271997/271997 [==============================] - 67s 247us/step - loss: 0.1855 - accuracy: 0.9116 - val_loss: 0.1645 - val_accuracy: 0.9211\n",
      "Epoch 7/10\n",
      "271997/271997 [==============================] - 67s 246us/step - loss: 0.1776 - accuracy: 0.9148 - val_loss: 0.1604 - val_accuracy: 0.9232\n",
      "Epoch 8/10\n",
      "271997/271997 [==============================] - 67s 247us/step - loss: 0.1713 - accuracy: 0.9170 - val_loss: 0.1562 - val_accuracy: 0.9237\n",
      "Epoch 9/10\n",
      "271997/271997 [==============================] - 67s 248us/step - loss: 0.1673 - accuracy: 0.9185 - val_loss: 0.1534 - val_accuracy: 0.9245\n",
      "Epoch 10/10\n",
      "271997/271997 [==============================] - 68s 250us/step - loss: 0.1626 - accuracy: 0.9202 - val_loss: 0.1580 - val_accuracy: 0.9239\n",
      "accuracy: 0.8024666666666667\n"
     ]
    }
   ],
   "source": [
    "from my_model import my_model\n",
    "'''train model'''\n",
    "model_file_name='my_model_dc_parsec_64.h5'\n",
    "final_vocab_size=2\n",
    "embedding_dim=8\n",
    "i_dim=look_back*16\n",
    "o_dim=y_train.shape[1]\n",
    "batch_size=256\n",
    "num_epochs=10\n",
    "lstm_size=64\n",
    "model_ = my_model(final_vocab_size, batch_size,embedding_dim, i_dim, o_dim,lstm_size)\n",
    "history=model_.train(X_train, y_train,X_val, y_val, num_epochs, batch_size)\n",
    "model_.model.save(model_file_name)\n",
    "y_pred = model_.predict(X_test)\n",
    "y_pred[y_pred >= 0.5] = 1\n",
    "y_pred[y_pred < 0.5] = 0\n",
    "aaaaa = f.convert_binary_to_dec(y_test)\n",
    "bbbbb = f.convert_binary_to_dec(y_pred)\n",
    "\n",
    "from sklearn.metrics import accuracy_score\n",
    "accuracy = accuracy_score(np.array(aaaaa), np.array(bbbbb))\n",
    "print(\"accuracy:\",accuracy)\n",
    "\n",
    "#bbbbb = np.packbits(np.array(y_pred, dtype=np.bool).reshape(-1, 2, 8)[:, ::-1]).view(np.uint16)\n",
    "original_testing_diffs,original_predictions_diffs=f.token_back(aaaaa,bbbbb,tokenizer)"
   ]
  },
  {
   "cell_type": "code",
   "execution_count": 143,
   "metadata": {},
   "outputs": [
    {
     "name": "stdout",
     "output_type": "stream",
     "text": [
      "Model: \"sequential_3\"\n",
      "_________________________________________________________________\n",
      "Layer (type)                 Output Shape              Param #   \n",
      "=================================================================\n",
      "embedding_3 (Embedding)      (None, 48, 8)             16        \n",
      "_________________________________________________________________\n",
      "lstm_3 (LSTM)                (None, 16)                1600      \n",
      "_________________________________________________________________\n",
      "dropout_3 (Dropout)          (None, 16)                0         \n",
      "_________________________________________________________________\n",
      "dense_3 (Dense)              (None, 16)                272       \n",
      "=================================================================\n",
      "Total params: 1,888\n",
      "Trainable params: 1,888\n",
      "Non-trainable params: 0\n",
      "_________________________________________________________________\n"
     ]
    },
    {
     "name": "stderr",
     "output_type": "stream",
     "text": [
      "/home/pengmiao/.local/lib/python3.7/site-packages/tensorflow_core/python/framework/indexed_slices.py:433: UserWarning: Converting sparse IndexedSlices to a dense Tensor of unknown shape. This may consume a large amount of memory.\n",
      "  \"Converting sparse IndexedSlices to a dense Tensor of unknown shape. \"\n"
     ]
    },
    {
     "name": "stdout",
     "output_type": "stream",
     "text": [
      "Train on 271997 samples, validate on 68000 samples\n",
      "Epoch 1/10\n",
      "271997/271997 [==============================] - 69s 253us/step - loss: 0.4064 - accuracy: 0.8106 - val_loss: 0.3607 - val_accuracy: 0.8283\n",
      "Epoch 2/10\n",
      "271997/271997 [==============================] - 68s 251us/step - loss: 0.3609 - accuracy: 0.8199 - val_loss: 0.3517 - val_accuracy: 0.8308\n",
      "Epoch 3/10\n",
      "271997/271997 [==============================] - 68s 251us/step - loss: 0.3512 - accuracy: 0.8236 - val_loss: 0.3405 - val_accuracy: 0.8387\n",
      "Epoch 4/10\n",
      "271997/271997 [==============================] - 68s 252us/step - loss: 0.3376 - accuracy: 0.8306 - val_loss: 0.3248 - val_accuracy: 0.8401\n",
      "Epoch 5/10\n",
      "271997/271997 [==============================] - 68s 251us/step - loss: 0.3288 - accuracy: 0.8331 - val_loss: 0.3147 - val_accuracy: 0.8469\n",
      "Epoch 6/10\n",
      "271997/271997 [==============================] - 68s 251us/step - loss: 0.3229 - accuracy: 0.8362 - val_loss: 0.3093 - val_accuracy: 0.8499\n",
      "Epoch 7/10\n",
      "271997/271997 [==============================] - 68s 250us/step - loss: 0.3316 - accuracy: 0.8344 - val_loss: 0.3307 - val_accuracy: 0.8479\n",
      "Epoch 8/10\n",
      "271997/271997 [==============================] - 68s 250us/step - loss: 0.3296 - accuracy: 0.8376 - val_loss: 0.3128 - val_accuracy: 0.8508\n",
      "Epoch 9/10\n",
      "271997/271997 [==============================] - 69s 252us/step - loss: 0.3184 - accuracy: 0.8412 - val_loss: 0.3056 - val_accuracy: 0.8563\n",
      "Epoch 10/10\n",
      "271997/271997 [==============================] - 68s 250us/step - loss: 0.3131 - accuracy: 0.8440 - val_loss: 0.3007 - val_accuracy: 0.8603\n",
      "accuracy: 0.3482\n"
     ]
    }
   ],
   "source": [
    "from my_model import my_model\n",
    "'''train model'''\n",
    "model_file_name='my_model_dc_parsec_16.h5'\n",
    "final_vocab_size=2\n",
    "embedding_dim=8\n",
    "i_dim=look_back*16\n",
    "o_dim=y_train.shape[1]\n",
    "batch_size=256\n",
    "num_epochs=10\n",
    "lstm_size=16\n",
    "model_ = my_model(final_vocab_size, batch_size,embedding_dim, i_dim, o_dim,lstm_size)\n",
    "history=model_.train(X_train, y_train,X_val, y_val, num_epochs, batch_size)\n",
    "model_.model.save(model_file_name)\n",
    "\n",
    "y_pred = model_.predict(X_test)\n",
    "y_pred[y_pred >= 0.5] = 1\n",
    "y_pred[y_pred < 0.5] = 0\n",
    "aaaaa = f.convert_binary_to_dec(y_test)\n",
    "bbbbb = f.convert_binary_to_dec(y_pred)\n",
    "\n",
    "from sklearn.metrics import accuracy_score\n",
    "accuracy = accuracy_score(np.array(aaaaa), np.array(bbbbb))\n",
    "print(\"accuracy:\",accuracy)\n",
    "\n",
    "#bbbbb = np.packbits(np.array(y_pred, dtype=np.bool).reshape(-1, 2, 8)[:, ::-1]).view(np.uint16)\n",
    "original_testing_diffs,original_predictions_diffs=f.token_back(aaaaa,bbbbb,tokenizer)"
   ]
  },
  {
   "cell_type": "code",
   "execution_count": 144,
   "metadata": {},
   "outputs": [
    {
     "name": "stdout",
     "output_type": "stream",
     "text": [
      "Model: \"sequential_4\"\n",
      "_________________________________________________________________\n",
      "Layer (type)                 Output Shape              Param #   \n",
      "=================================================================\n",
      "embedding_4 (Embedding)      (None, 48, 8)             16        \n",
      "_________________________________________________________________\n",
      "lstm_4 (LSTM)                (None, 32)                5248      \n",
      "_________________________________________________________________\n",
      "dropout_4 (Dropout)          (None, 32)                0         \n",
      "_________________________________________________________________\n",
      "dense_4 (Dense)              (None, 16)                528       \n",
      "=================================================================\n",
      "Total params: 5,792\n",
      "Trainable params: 5,792\n",
      "Non-trainable params: 0\n",
      "_________________________________________________________________\n"
     ]
    },
    {
     "name": "stderr",
     "output_type": "stream",
     "text": [
      "/home/pengmiao/.local/lib/python3.7/site-packages/tensorflow_core/python/framework/indexed_slices.py:433: UserWarning: Converting sparse IndexedSlices to a dense Tensor of unknown shape. This may consume a large amount of memory.\n",
      "  \"Converting sparse IndexedSlices to a dense Tensor of unknown shape. \"\n"
     ]
    },
    {
     "name": "stdout",
     "output_type": "stream",
     "text": [
      "Train on 271997 samples, validate on 68000 samples\n",
      "Epoch 1/10\n",
      "271997/271997 [==============================] - 69s 253us/step - loss: 0.3959 - accuracy: 0.8130 - val_loss: 0.3451 - val_accuracy: 0.8366\n",
      "Epoch 2/10\n",
      "271997/271997 [==============================] - 68s 251us/step - loss: 0.3367 - accuracy: 0.8341 - val_loss: 0.3127 - val_accuracy: 0.8500\n",
      "Epoch 3/10\n",
      "271997/271997 [==============================] - 68s 251us/step - loss: 0.3120 - accuracy: 0.8436 - val_loss: 0.3133 - val_accuracy: 0.8540\n",
      "Epoch 4/10\n",
      "271997/271997 [==============================] - 69s 253us/step - loss: 0.3151 - accuracy: 0.8452 - val_loss: 0.2880 - val_accuracy: 0.8669\n",
      "Epoch 5/10\n",
      "271997/271997 [==============================] - 68s 252us/step - loss: 0.2896 - accuracy: 0.8573 - val_loss: 0.2666 - val_accuracy: 0.8742\n",
      "Epoch 6/10\n",
      "271997/271997 [==============================] - 68s 251us/step - loss: 0.2747 - accuracy: 0.8656 - val_loss: 0.2488 - val_accuracy: 0.8864\n",
      "Epoch 7/10\n",
      "271997/271997 [==============================] - 68s 251us/step - loss: 0.2600 - accuracy: 0.8737 - val_loss: 0.2335 - val_accuracy: 0.8932\n",
      "Epoch 8/10\n",
      "271997/271997 [==============================] - 68s 250us/step - loss: 0.2487 - accuracy: 0.8800 - val_loss: 0.2354 - val_accuracy: 0.8938\n",
      "Epoch 9/10\n",
      "271997/271997 [==============================] - 68s 250us/step - loss: 0.2401 - accuracy: 0.8848 - val_loss: 0.2137 - val_accuracy: 0.9030\n",
      "Epoch 10/10\n",
      "271997/271997 [==============================] - 68s 251us/step - loss: 0.2312 - accuracy: 0.8894 - val_loss: 0.2111 - val_accuracy: 0.9049\n",
      "accuracy: 0.6374166666666666\n"
     ]
    }
   ],
   "source": [
    "from my_model import my_model\n",
    "'''train model'''\n",
    "model_file_name='my_model_dc_parsec_32.h5'\n",
    "final_vocab_size=2\n",
    "embedding_dim=8\n",
    "i_dim=look_back*16\n",
    "o_dim=y_train.shape[1]\n",
    "batch_size=256\n",
    "num_epochs=10\n",
    "lstm_size=32\n",
    "model_ = my_model(final_vocab_size, batch_size,embedding_dim, i_dim, o_dim,lstm_size)\n",
    "history=model_.train(X_train, y_train,X_val, y_val, num_epochs, batch_size)\n",
    "model_.model.save(model_file_name)\n",
    "\n",
    "y_pred = model_.predict(X_test)\n",
    "y_pred[y_pred >= 0.5] = 1\n",
    "y_pred[y_pred < 0.5] = 0\n",
    "aaaaa = f.convert_binary_to_dec(y_test)\n",
    "bbbbb = f.convert_binary_to_dec(y_pred)\n",
    "\n",
    "from sklearn.metrics import accuracy_score\n",
    "accuracy = accuracy_score(np.array(aaaaa), np.array(bbbbb))\n",
    "print(\"accuracy:\",accuracy)\n",
    "\n",
    "#bbbbb = np.packbits(np.array(y_pred, dtype=np.bool).reshape(-1, 2, 8)[:, ::-1]).view(np.uint16)\n",
    "original_testing_diffs,original_predictions_diffs=f.token_back(aaaaa,bbbbb,tokenizer)"
   ]
  },
  {
   "cell_type": "code",
   "execution_count": 127,
   "metadata": {},
   "outputs": [],
   "source": [
    "from tensorflow.keras.models import load_model\n",
    "model_file_name='my_model_dc_parsec_16.h5'\n",
    "model_ = load_model(model_file_name)\n",
    "a=np.array([X_test[0]])\n"
   ]
  },
  {
   "cell_type": "code",
   "execution_count": 140,
   "metadata": {},
   "outputs": [
    {
     "name": "stdout",
     "output_type": "stream",
     "text": [
      "32:time cost: 0.04493975639343262 s\n"
     ]
    }
   ],
   "source": [
    "import time\n",
    "time_start=time.time()\n",
    "model_.predict(a)\n",
    "time_end=time.time()\n",
    "print('32:time cost:',time_end-time_start,'s')"
   ]
  },
  {
   "cell_type": "markdown",
   "metadata": {},
   "source": [
    "# Time end"
   ]
  },
  {
   "cell_type": "code",
   "execution_count": 2,
   "metadata": {},
   "outputs": [],
   "source": [
    "from tensorflow.keras.models import load_model\n",
    "model_file_name='my_model_dc_parsec.h5'\n",
    "model_ = load_model(model_file_name)\n",
    "#from keras.utils import plot_model\n",
    "#plot_model(model_, to_file='my_model_dc_parsec.png')"
   ]
  },
  {
   "cell_type": "code",
   "execution_count": 11,
   "metadata": {},
   "outputs": [
    {
     "data": {
      "text/plain": [
       "<matplotlib.legend.Legend at 0x7fd436d0ea90>"
      ]
     },
     "execution_count": 11,
     "metadata": {},
     "output_type": "execute_result"
    },
    {
     "data": {
      "image/png": "[encoded data removed]",
      "text/plain": [
       "<Figure size 500x300 with 1 Axes>"
      ]
     },
     "metadata": {
      "needs_background": "light"
     },
     "output_type": "display_data"
    },
    {
     "data": {
      "image/png": "[encoded data removed]",
      "text/plain": [
       "<Figure size 500x300 with 1 Axes>"
      ]
     },
     "metadata": {
      "needs_background": "light"
     },
     "output_type": "display_data"
    }
   ],
   "source": [
    "import matplotlib.pyplot as plt\n",
    "fig1 = plt.figure(dpi=50, figsize=(10, 6))\n",
    "plt.plot(history.history['loss'], label='Training loss')\n",
    "plt.plot(history.history['val_loss'], label='Validation loss')\n",
    "plt.xlabel(\"Epoch\")\n",
    "#plt.ylabel(\"Training loss\")\n",
    "plt.legend(loc=\"best\")\n",
    "fig2 = plt.figure(dpi=50, figsize=(10, 6))\n",
    "plt.plot(history.history['accuracy'], label='Training accuracy')\n",
    "plt.plot(history.history['val_accuracy'], label='Validation accuray')\n",
    "plt.xlabel(\"Epoch\")\n",
    "plt.legend(loc=\"best\")"
   ]
  },
  {
   "cell_type": "code",
   "execution_count": 12,
   "metadata": {},
   "outputs": [
    {
     "name": "stdout",
     "output_type": "stream",
     "text": [
      "accuracy: 0.7235833333333334\n"
     ]
    }
   ],
   "source": [
    "y_pred = model_.predict(X_test)\n",
    "y_pred[y_pred >= 0.5] = 1\n",
    "y_pred[y_pred < 0.5] = 0\n",
    "aaaaa = f.convert_binary_to_dec(y_test)\n",
    "bbbbb = f.convert_binary_to_dec(y_pred)\n",
    "\n",
    "from sklearn.metrics import accuracy_score\n",
    "accuracy = accuracy_score(np.array(aaaaa), np.array(bbbbb))\n",
    "print(\"accuracy:\",accuracy)\n",
    "\n",
    "#bbbbb = np.packbits(np.array(y_pred, dtype=np.bool).reshape(-1, 2, 8)[:, ::-1]).view(np.uint16)\n",
    "original_testing_diffs,original_predictions_diffs=f.token_back(aaaaa,bbbbb,tokenizer)"
   ]
  },
  {
   "cell_type": "code",
   "execution_count": 13,
   "metadata": {},
   "outputs": [
    {
     "name": "stdout",
     "output_type": "stream",
     "text": [
      "time cost 0.018143415451049805 s\n"
     ]
    }
   ],
   "source": [
    "import time\n",
    "time_start=time.time()\n",
    "model_.predict(np.array([X_test[0]]))\n",
    "time_end=time.time()\n",
    "print('time cost',time_end-time_start,'s')"
   ]
  },
  {
   "cell_type": "code",
   "execution_count": null,
   "metadata": {},
   "outputs": [],
   "source": [
    "X_test2=np.array([X_test[10]])\n",
    "y_pred1 = model_.predict(X_test2)\n",
    "y_pred1[y_pred1 >= 0.5] = 1\n",
    "y_pred1[y_pred1 < 0.5] = 0\n",
    "\n",
    "a1=[0]\n",
    "b1 = f.convert_binary_to_dec(y_pred1)\n",
    "diff,nomean=f.token_back(b1,b1,tokenizer)\n",
    "print(diff)"
   ]
  },
  {
   "cell_type": "markdown",
   "metadata": {},
   "source": [
    "# Weights"
   ]
  },
  {
   "cell_type": "code",
   "execution_count": 2,
   "metadata": {},
   "outputs": [
    {
     "data": {
      "text/plain": [
       "[<tensorflow.python.keras.layers.embeddings.Embedding at 0x7fe006c84b70>,\n",
       " <tensorflow.python.keras.layers.recurrent.LSTM at 0x7fe006caf208>,\n",
       " <tensorflow.python.keras.layers.core.Dropout at 0x7fe006469588>,\n",
       " <tensorflow.python.keras.layers.core.Dense at 0x7fe006469470>]"
      ]
     },
     "execution_count": 2,
     "metadata": {},
     "output_type": "execute_result"
    }
   ],
   "source": [
    "model_.layers"
   ]
  },
  {
   "cell_type": "code",
   "execution_count": 4,
   "metadata": {},
   "outputs": [
    {
     "name": "stdout",
     "output_type": "stream",
     "text": [
      "embedding: (2, 8)\n"
     ]
    }
   ],
   "source": [
    "print(\"embedding:\",model_.layers[0].get_weights()[0].shape)"
   ]
  },
  {
   "cell_type": "code",
   "execution_count": 5,
   "metadata": {},
   "outputs": [
    {
     "name": "stdout",
     "output_type": "stream",
     "text": [
      "embedding: [[ 0.1511789   0.21257462  0.02249864  0.05298556  0.3013374   0.04191065\n",
      "   0.20380408  0.01847126]\n",
      " [-0.58739895 -0.8522611  -0.12063408 -0.9246319  -1.0010942  -0.925209\n",
      "  -0.6365828  -0.16443335]]\n"
     ]
    }
   ],
   "source": [
    "print(\"embedding:\",model_.layers[0].get_weights()[0])"
   ]
  },
  {
   "cell_type": "markdown",
   "metadata": {},
   "source": [
    "this means :\n",
    "\n",
    "if the value is 0, replaced by (or map to) [ 0.17540154  0.2772978   0.15073669  0.0390941  -0.13905676 -0.21958843\n",
    "   0.14507203 -0.0971421   0.32921442  0.1110358 ];\n",
    "   \n",
    "if the value is 1, replaced by (or map to) [-0.40535894 -0.75318736 -0.6593158  -0.79442096  0.5156072   0.34559667\n",
    "  -0.14990288  0.377039   -0.71279496 -0.5381763 ]\n",
    "  \n",
    "  https://stats.stackexchange.com/questions/270546/how-does-keras-embedding-layer-work"
   ]
  },
  {
   "cell_type": "code",
   "execution_count": 8,
   "metadata": {},
   "outputs": [
    {
     "name": "stdout",
     "output_type": "stream",
     "text": [
      "lstm: (3,)\n",
      "lstm_0: (8, 128)\n",
      "lstm_1: (32, 128)\n",
      "lstm_2: (128,)\n",
      "total: 12200\n"
     ]
    }
   ],
   "source": [
    "\n",
    "print(\"lstm:\",np.array(model_.layers[1].get_weights()).shape)\n",
    "print(\"lstm_0:\",model_.layers[1].get_weights()[0].shape)\n",
    "print(\"lstm_1:\",model_.layers[1].get_weights()[1].shape)\n",
    "print(\"lstm_2:\",model_.layers[1].get_weights()[2].shape)\n",
    "print(\"total: 12200\")"
   ]
  },
  {
   "cell_type": "markdown",
   "metadata": {},
   "source": [
    "## LSMT Weight"
   ]
  },
  {
   "cell_type": "markdown",
   "metadata": {},
   "source": [
    "https://stackoverflow.com/questions/42861460/how-to-interpret-weights-in-a-lstm-layer-in-keras"
   ]
  },
  {
   "cell_type": "code",
   "execution_count": null,
   "metadata": {},
   "outputs": [],
   "source": [
    "#print(model_.layers[1].trainable_weights)\n",
    "units = int(int(model_.layers[1].trainable_weights[0].shape[1])/4)\n",
    "print(\"No. units: \", units)\n",
    "\n",
    "W = model_.layers[1].get_weights()[0]\n",
    "U = model_.layers[1].get_weights()[1]\n",
    "b = model_.layers[1].get_weights()[2]\n",
    "\n",
    "W_i = W[:, :units]\n",
    "W_f = W[:, units: units * 2]\n",
    "W_c = W[:, units * 2: units * 3]\n",
    "W_o = W[:, units * 3:]\n",
    "\n",
    "U_i = U[:, :units]\n",
    "U_f = U[:, units: units * 2]\n",
    "U_c = U[:, units * 2: units * 3]\n",
    "U_o = U[:, units * 3:]\n",
    "\n",
    "b_i = b[:units]\n",
    "b_f = b[units: units * 2]\n",
    "b_c = b[units * 2: units * 3]\n",
    "b_o = b[units * 3:]"
   ]
  },
  {
   "cell_type": "code",
   "execution_count": null,
   "metadata": {},
   "outputs": [],
   "source": [
    "print(\"dropout:\",model_.layers[2].get_weights())"
   ]
  },
  {
   "cell_type": "code",
   "execution_count": null,
   "metadata": {},
   "outputs": [],
   "source": [
    "print(\"dense:\",model_.layers[3].get_weights()[0].shape)\n",
    "print(\"dense_bias:\",model_.layers[3].get_weights()[1].shape)"
   ]
  },
  {
   "cell_type": "code",
   "execution_count": null,
   "metadata": {},
   "outputs": [],
   "source": [
    "print(\"dropout:\",model_.layers[4].get_weights())\n",
    "print(\"dense:\",model_.layers[5].get_weights()[0].shape)\n",
    "print(\"dense_bias:\",model_.layers[5].get_weights()[1].shape)"
   ]
  },
  {
   "cell_type": "code",
   "execution_count": null,
   "metadata": {},
   "outputs": [],
   "source": [
    "print(W_i.shape,U_i.shape,b_i.shape)\n",
    "print(W_f.shape,U_f.shape,b_f.shape)\n",
    "# https://stackoverflow.com/questions/42861460/how-to-interpret-weights-in-a-lstm-layer-in-keras"
   ]
  },
  {
   "cell_type": "markdown",
   "metadata": {},
   "source": [
    "## Dense"
   ]
  },
  {
   "cell_type": "code",
   "execution_count": 11,
   "metadata": {},
   "outputs": [
    {
     "name": "stdout",
     "output_type": "stream",
     "text": [
      "embedding: (32, 16)\n",
      "embedding: (16,)\n"
     ]
    }
   ],
   "source": [
    "print(\"embedding:\",model_.layers[3].get_weights()[0].shape)\n",
    "print(\"embedding:\",model_.layers[3].get_weights()[1].shape)"
   ]
  }
 ],
 "metadata": {
  "kernelspec": {
   "display_name": "Python 3",
   "language": "python",
   "name": "python3"
  },
  "language_info": {
   "codemirror_mode": {
    "name": "ipython",
    "version": 3
   },
   "file_extension": ".py",
   "mimetype": "text/x-python",
   "name": "python",
   "nbconvert_exporter": "python",
   "pygments_lexer": "ipython3",
   "version": "3.7.3"
  }
 },
 "nbformat": 4,
 "nbformat_minor": 4
}
